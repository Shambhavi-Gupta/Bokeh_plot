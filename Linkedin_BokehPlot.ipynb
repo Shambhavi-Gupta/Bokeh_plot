{
  "nbformat": 4,
  "nbformat_minor": 0,
  "metadata": {
    "colab": {
      "name": "Linkedin_BokehPlot.ipynb",
      "provenance": [],
      "authorship_tag": "ABX9TyMnHiNq1KXFN5z2lslw3fen",
      "include_colab_link": true
    },
    "kernelspec": {
      "name": "python3",
      "display_name": "Python 3"
    }
  },
  "cells": [
    {
      "cell_type": "markdown",
      "metadata": {
        "id": "view-in-github",
        "colab_type": "text"
      },
      "source": [
        "<a href=\"https://colab.research.google.com/github/Shambhavi-Gupta/Bokeh_plot/blob/master/Linkedin_BokehPlot.ipynb\" target=\"_parent\"><img src=\"https://colab.research.google.com/assets/colab-badge.svg\" alt=\"Open In Colab\"/></a>"
      ]
    },
    {
      "cell_type": "markdown",
      "metadata": {
        "id": "NdO3ohlcFHWw",
        "colab_type": "text"
      },
      "source": [
        "#1. So here is a plot of Sin(x), cos(x) and sin(x)+cos(x).\n",
        "# 2. So here is a library known as Bokeh library which I used to make this plot.\n",
        "#3. The link to this plot is mentioned in the cell just below the code cell.\n",
        "#4. To view the plot just copy and paste the link in the browser and there will be your plot."
      ]
    },
    {
      "cell_type": "code",
      "metadata": {
        "id": "3uCCpMEUocqO",
        "colab_type": "code",
        "colab": {}
      },
      "source": [
        "import numpy as np\n",
        "from bokeh.layouts import gridplot\n",
        "from bokeh.plotting import figure, output_file, show\n",
        "\n",
        "# prepare some data\n",
        "N = 100\n",
        "x = np.linspace(0, 4*np.pi, N)\n",
        "y0 = np.sin(x)\n",
        "y1 = np.cos(x)\n",
        "y2 = np.sin(x) + np.cos(x)\n",
        "\n",
        "# output to static HTML file\n",
        "output_file(\"linked_panning.HTML\")\n",
        "\n",
        "# create a new plot\n",
        "s1 = figure(width=250, plot_height=250, title=None)\n",
        "s1.circle(x, y0, size=10, color=\"navy\", alpha=0.5)\n",
        "\n",
        "# NEW: create a new plot and share both ranges\n",
        "s2 = figure(width=250, height=250, x_range=s1.x_range, y_range=s1.y_range, title=None)\n",
        "s2.triangle(x, y1, size=10, color=\"firebrick\", alpha=0.5)\n",
        "\n",
        "# NEW: create a new plot and share only one range\n",
        "s3 = figure(width=250, height=250, x_range=s1.x_range, title=None)\n",
        "s3.square(x, y2, size=10, color=\"olive\", alpha=0.5)\n",
        "\n",
        "# NEW: put the subplots in a gridplot\n",
        "p = gridplot([[s1, s2, s3]], toolbar_location=None)\n",
        "\n",
        "# show the results\n",
        "show(p)\n",
        "#export_png(plot, filename=\"plot.png\")"
      ],
      "execution_count": 0,
      "outputs": []
    },
    {
      "cell_type": "markdown",
      "metadata": {
        "id": "QyBARdX6GOHn",
        "colab_type": "text"
      },
      "source": [
        "#Here's the link:"
      ]
    },
    {
      "cell_type": "code",
      "metadata": {
        "id": "jfpT4TWvEOqR",
        "colab_type": "code",
        "colab": {}
      },
      "source": [
        "file:///C:/Users/compaq/Downloads/linked_panning.html"
      ],
      "execution_count": 0,
      "outputs": []
    }
  ]
}